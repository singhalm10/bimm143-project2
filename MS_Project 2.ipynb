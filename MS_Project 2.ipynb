{
 "cells": [
  {
   "cell_type": "markdown",
   "id": "7ed3921b",
   "metadata": {},
   "source": [
    "# Project 2C\n",
    "### Assessing Protein-level Differences in CA2 Hippocampal Region \n",
    "\n",
    "Meenakshi Singhal\n",
    "\n",
    "BIMM 143, Spring 2022"
   ]
  },
  {
   "cell_type": "markdown",
   "id": "719cb6f9",
   "metadata": {},
   "source": [
    "# Introduction\n",
    "\n",
    "The hippocampus is a specific and crucial region of the brain; as part of the limbic system, it modulates processes like memory consolidation and facilitates neural plasticity, i.e. long-term potentiation. Thus, this region also becomes a central location of deterioration in neurodegenerative conditions like Alzheimer's disease.  \n",
    "\n",
    "\n",
    "In this study, RNAseq data from both murine and human hippocampi cellular populations were analyzed. Such cellular populations are arranged in a highly organized manner; they include mossy and granule cells from the dentate gyrus, as well as CA1, CA2, and CA3 pyramidal cells. For this project, CA2 pyramidal cells in particular will be assessed. While previously considered merely an extension of the CA3, researchers now understand that the CA2 region is its own distinct part of the hippocampus, with unique form and function. CA2 cells have been hypothesized to be largely responsible for facilitating the process of developing social memories that help us navigate interactions (https://www.frontiersin.org/articles/10.3389/fnbeh.2019.00233/full). To this point, interpreting the exact role of the CA2 region based on its neuronal connecitivities has been difficult.\n",
    "\n",
    "To better understand how this unique brain structure is organized from a metabolic standpoint, various bioinformatics methods and tools will be applied to the RNAseq data. First, a marker gene for the CA2 region can be identified through literature review; the nucleotide sequences found from NCBI can be compared via sequence alignment. I chose RGS14, which has been implicated in preventing the process of neuronal plasticity in the CA2 region. Neuronal plasticity is widely believed to be something unique to humans in terms of prevalence. Next, Principal component analysis of (RNAseq) gene expression levels and marker gene protein structural analysis can then be generated to further characterize the differences between murine and human CA2 regions. In particular, homology modeling using SWISS Model can allow for relatively easy visual comparisons between the RGS14 protein in humans versus in mice.\n",
    "\n",
    "\n",
    "- Murine RNAseq data GEO, from Cembrowski et al., Elife 2016: https://www.ncbi.nlm.nih.gov/geo/query/acc.cgi?token=adsveykeprejbej&acc=GSE74985\n",
    "\n",
    "\n",
    "- Human RNAseq data GEO, from Ahyan et al., Neuron 2021: https://www.ncbi.nlm.nih.gov/geo/query/acc.cgi?acc=GSE160189"
   ]
  },
  {
   "cell_type": "markdown",
   "id": "c87bf86c",
   "metadata": {},
   "source": [
    "## Scientific Question:\n",
    "\n",
    "\n",
    "How does the heterogeneity of the CA2 neuronal hippocampus populations between mice and humans compare at both single protein and transcriptome levels?"
   ]
  },
  {
   "cell_type": "markdown",
   "id": "aefe2430",
   "metadata": {},
   "source": [
    "## Scientific Hypothesis: \n",
    "\n",
    "If sequence alignment reveals differences between mice and humans for the RGS14 marker gene of the CA2 hippocampus region, then PCA on enriched genes as well as structural analysis of the RGS14 protein will elucidate and reaffirm CA2 cellular heterogeneity between the two species."
   ]
  },
  {
   "cell_type": "markdown",
   "id": "c7399b72",
   "metadata": {},
   "source": [
    "## Part 1: Load in Packages\n",
    "\n",
    "- **Biopython**: A set of bioinformatics tools for processing nucleotide, amino acid, etc sequences. It can take in FASTA and other file types and one can also perform BLAST searches.\n",
    "\n",
    "\n",
    "- **numpy**: A Python library with various functions to build and manipulate array objects; arrays have faster computation than lists due to \"behind-the-scenes\" C++ frameworks to process the data.\n",
    "\n",
    "\n",
    "- **matplotlib**: A Python library to easily visualize various plots and graphs; these include scatterplots and bar graphs; usually takes in an independent (x) and dependent (y) variable, with the ability to create axes labels, limits, and a graph title"
   ]
  },
  {
   "cell_type": "code",
   "execution_count": 70,
   "id": "8cc114d8",
   "metadata": {},
   "outputs": [],
   "source": [
    "import Bio\n",
    "from Bio import SeqIO  #SeqIO is the input/output interface for Biopython; it allows fasta files to be read in\n",
    "import numpy as np\n",
    "import matplotlib.pyplot as plt\n",
    "from Bio import pairwise2 #pairwise2 calculates pairwise sequence alignment between two genes; you can specify whether to calculate global or local alignment scores\n",
    "from Bio.Seq import Seq #Seq creates string nucleotide objects \n",
    "from Bio.pairwise2 import format_alignment  #nicely visualize alignment relationships between sequences"
   ]
  },
  {
   "cell_type": "markdown",
   "id": "c137e29a",
   "metadata": {},
   "source": [
    "## Part 2: Performing Bioinformatics Analysis\n",
    "\n",
    "#### Database 1: NCBI Nucleotide search \n",
    "\n",
    "#### Method 1: Pairwise Sequence Alignment of RGS14 gene (a marker gene for CA2 region)\n",
    "\n",
    "- See https://iiif.elifesciences.org/lax/14997%2Felife-14997-fig3-figsupp1-v1.tif/full/1500,/0/default.jpg\n",
    "    - can also consider using f2r, pygo1"
   ]
  },
  {
   "cell_type": "code",
   "execution_count": 71,
   "id": "6be1c554",
   "metadata": {},
   "outputs": [],
   "source": [
    "# Nucleotide search for RGS14 in mouse and human \n",
    "\n",
    "#Fasta = list(SeqIO.parse(\"rgs14_hum.fasta\", \"fasta\")) \n",
    "\n",
    "#https://www.ncbi.nlm.nih.gov/nuccore/NC_000005.10?report=fasta&from=177357924&to=177372596\n",
    "mouse_gene = \"GCAGGAGGACGCCTGCGGGTTGCCTCCTGGAGCCTGACATCTAGACTGAAGACTGCTCAGCGACACCAACGAGCCCGGACGCCCTCGAGCTTGCCTTGCCCACTGGTACCTAGCTAGAGAGGGAGGAAGTGGACCGAAGAGTCGGGAAATACTGCTAGGCGAGTTTACCCACATCAGCACCATGGACAACGCACGCAGAAAAACTCCAGCTCGGCTGGATGCTGCCTGCTTCTGGCAGATCTGGCAGCGCTTCGACAAGGAAGAAAAAGGTTACATAAGAGAGACAGAGCTGGATGCCTTCTTTGATCATTTGCTGGCAAAATCTGGCACTGAGGACACTCTTATGGAAGAAAATGTGCAGAAAGTGAAAGAACAGTTGATGACCAGCCACAACGTCTCTAAGGAAGGCCGCATACTGATGAAAGAGCTTGCCAGTATGTTCTTATCTGAAGATGAAAATTTCCTCCTGTTCTTTCGCCTGGAAACTCCCTTGGATAACAGTGTAGAGTTTATGCAGATTTGGCGCAAATACGATGCGGACAGCAGTGGTTTCATATCAGCTGCTGAGCTTTGTAACTTTCTTCGAGACCTTTTCCTCCACCACAAAAAGAACATTTCCGAGGCTGAACTGGAAGAGTATACTAGCACCATGATGAAGATCTTTGACAAAAATAAAGATGGACGTTTGGATCTTAATGACTTGGCAAGGATTCTGGCGCTCCAGGAAAACTTCCTTCTTCAGTTTAAAATGGATGCTTCTTCTACTGAAGAAAGGAAGAGGGACTTTGAGAAAATCTTTGCCCATTACGATGTTAGTAAAACTGGAGCCCTGGAAGGCCCAGAAGTGGATGGATTTGTCAAAGATATGATGGAGCTGGTCCAGCCCAGCATCAGTGGTGTGGATCTGGATAAGTTCCGGGAGATTCTGCTTCGCCATTGCGATGTCAACAAGGATGGAAAGATCCAGAAGTCTGAGCTGGCACTGTGTCTTGGGCTAAAAATAAACCCCTGATCCCCAACTACTCTGCTCTCCACTTAAGTGTCTGTGTTCCTGCTGTGAGAAGTGTGTTTGTGCTTTGCTCTTGGGGACCCAGTTAATGGACCTTCTCCCTGACAGTTTGGTACTCTTGATGGAGGGAGTGGCCCTAGGGTGCTGCTTCCAGAGGCAGCCATGATCTTGTCCCATGGGAAGCCCCATACAGCTTCTTCCATGTTTGTTCCTTGACCTTGGTCTATCTCCTCAAGGGCCTCATTTTACCTGCTCTGTTCAACCTTCCCTATCGCCTGGTGATCCATTCTACCATCTTCTGCTTGTCCTTGAGCTTTCTGCTCAGTTAGAGTGTCACCTGTATCGTGCTGTCACATGTACAAATATGTCTTCTTGTGGAAATAAAGCTGTGGTCAAGAATAAAAAAAAAAAAAAAA\"\n",
    "\n",
    "#https://www.ncbi.nlm.nih.gov/nuccore/NM_006480.5?report=fasta&log$=seqview\n",
    "hum_gene = \"GCTGAGGGCTGAGGGACGGCTCAGCGACGCCACGGCCAGCAGCGCTCGCGTCCTCCCCAGCAACAGTTACTCAAAGCTAATCAGATAGCGAAAGAAGCAGGAGAGCAAGTCAAGAAATACGGTGAAGGAGTCCTTCCCAAAGTTGTCTAGGTCCTTCCGCGCCGGTGCCTGGTCTTCGTCGTCAACACCATGGACAGCTCCCGGGAACCGACTCTGGGGCGCTTGGACGCCGCTGGCTTCTGGCAGGTCTGGCAGCGCTTTGATGCGGATGAAAAAGGTTACATAGAAGAGAAGGAACTCGATGCTTTCTTTCTCCACATGTTGATGAAACTGGGTACTGATGACACGGTCATGAAAGCAAATTTGCACAAGGTGAAACAGCAGTTTATGACTACCCAAGATGCCTCTAAAGATGGTCGCATTCGGATGAAAGAGCTTGCTGGTATGTTCTTATCTGAGGATGAAAACTTTCTTCTGCTCTTTCGCCGGGAAAACCCACTGGACAGCAGCGTGGAGTTTATGCAGATTTGGCGCAAATATGACGCTGACAGCAGTGGCTTTATATCAGCTGCTGAGCTCCGCAACTTCCTCCGAGACCTCTTTCTTCACCACAAAAAGGCCATTTCTGAGGCTAAACTGGAAGAATACACTGGCACCATGATGAAGATTTTTGACAGAAATAAAGATGGTCGGTTGGATCTAAATGACTTAGCAAGGATTCTGGCTCTTCAGGAAAACTTCCTTCTCCAATTTAAAATGGATGCTTGTTCTACTGAAGAAAGGAAAAGGGACTTTGAGAAAATCTTTGCCTACTATGATGTTAGTAAAACAGGAGCCCTGGAAGGCCCAGAAGTGGATGGGTTTGTCAAAGACATGATGGAGCTTGTCCAGCCCAGCATCAGCGGGGTGGACCTTGATAAGTTCCGCGAGATTCTCCTGCGTCACTGCGACGTGAACAAGGATGGAAAAATTCAGAAGTCTGAGCTGGCTTTGTGTCTTGGGCTGAAAATCAACCCATAATCCCAGACTGCTTTGCCTTTTGCTCTTACTATGTTTCTGTGATCTTGCTGGTAGAATTGTATCTGTGCATTGATGTTGGGAACACAGTGGGCAAACTCACAAATGGTGTGCTATTCTTGGGCAAGAACAGGGACGCTAGGGCCTTCCTTCCACCGGCGTGATCTATCCCTGTCTCACTGAAAGCCCCTGTGTAGTGTCTGTGTTGTTTTCCCTTGACCCTGGGCTTTCCTATCCTCCCAAAGACTCAGCTCCCCTGTTAGATGGCTCTGCCTGTCCTTCCCCAGTCACCAGGGTGGGGGGGACAGGGGCAGCTGAGTGCATTCATTTTGTGCTTTTCTTGTGGGCTTTCTGCTTAGTCTGAAAGGTGTGTGGCATTCATGGCAATCCTGTAACTTCAACATAGATTTTTTTGTGTGTGTGGAAATAAATCTGCAATTGGAAACAAAAA\""
   ]
  },
  {
   "cell_type": "code",
   "execution_count": 72,
   "id": "966b5691",
   "metadata": {},
   "outputs": [],
   "source": [
    "# mouse_seq contains nucleotide sequence for mouse gene\n",
    "# hum_seq contains nucleotide sequence for human gene\n",
    "mouse_seq = Seq(mouse_gene)\n",
    "hum_seq = Seq(hum_gene)"
   ]
  },
  {
   "cell_type": "code",
   "execution_count": 73,
   "id": "964c8412",
   "metadata": {},
   "outputs": [],
   "source": [
    "size = len(hum_seq) \n",
    "array = np.empty(shape=(size,1))\n",
    "\n",
    "def pair_align(array, size):\n",
    "    for i in range(size):\n",
    "        # Define two sequences to be aligned\n",
    "        X = mouse_seq\n",
    "        Y = hum_seq\n",
    "        array[i] = int(pairwise2.align.globalxx(X, Y, score_only=True))\n",
    "    return array\n",
    "\n",
    "# Use globalxx function to perform pairwise alignment between mouse and human gene seqeunces, which is stored in the global alignments variable \n",
    "#alignments = pairwise2.align.globalxx(mouse_seq, hum_seq, score_only=True)\n",
    "\n",
    "alignments = pair_align(array, size)"
   ]
  },
  {
   "cell_type": "code",
   "execution_count": 74,
   "id": "87a45a4c",
   "metadata": {},
   "outputs": [
    {
     "data": {
      "text/plain": [
       "array([[1132.],\n",
       "       [1132.],\n",
       "       [1132.],\n",
       "       ...,\n",
       "       [1132.],\n",
       "       [1132.],\n",
       "       [1132.]])"
      ]
     },
     "execution_count": 74,
     "metadata": {},
     "output_type": "execute_result"
    }
   ],
   "source": [
    "#alignments = pairwise2.align.globalxx(mouse_seq, hum_seq)\n",
    "alignments"
   ]
  },
  {
   "cell_type": "markdown",
   "id": "afcecdb6",
   "metadata": {},
   "source": [
    "#### Analysis 1: Heat Map"
   ]
  },
  {
   "cell_type": "code",
   "execution_count": 75,
   "id": "11a707bd",
   "metadata": {},
   "outputs": [
    {
     "data": {
      "image/png": "[encoded data removed]",
      "text/plain": [
       "<Figure size 432x288 with 2 Axes>"
      ]
     },
     "metadata": {
      "needs_background": "light"
     },
     "output_type": "display_data"
    }
   ],
   "source": [
    "#Create subplot\n",
    "fig, ax = plt.subplots()\n",
    "\n",
    "# Visualize heatmap of pairwise alignment \n",
    "plt.imshow(alignments)\n",
    "\n",
    "# Show the axes of heatmap\n",
    "im = ax.imshow(alignments)\n",
    "\n",
    "# Add colorbar to show strength of relationships between mouse and human nucleotides for the same gene\n",
    "cbar = ax.figure.colorbar(im)\n",
    "\n",
    "# Show the plot\n",
    "plt.show()"
   ]
  },
  {
   "cell_type": "markdown",
   "id": "3f790a5c",
   "metadata": {},
   "source": [
    "## Part 3A: Protein Structural Analysis of SCGN\n",
    "\n",
    "#### Database 2: SWISS model\n",
    "\n",
    "\n",
    "#### Method 2: Homology modeling and structural bioinformatics\n",
    "\n",
    "Homology Modeling workflow: \n",
    "1. alignment\n",
    "2. backbone generation (minimize energy via insertions/deletions of amino acids)\n",
    "3. loop modeling\n",
    "4. side-chain modeling\n",
    "5. model optimization\n",
    "\n",
    "#### Analysis 2: 3D protein measurements"
   ]
  },
  {
   "cell_type": "code",
   "execution_count": 1,
   "id": "a5ef38cd",
   "metadata": {},
   "outputs": [],
   "source": [
    "# compare structure of murine and human RGS14 protein"
   ]
  },
  {
   "cell_type": "markdown",
   "id": "a7e23b29",
   "metadata": {},
   "source": [
    "## Part 3B: Principal Component Analysis (if time)"
   ]
  },
  {
   "cell_type": "markdown",
   "id": "bd77a270",
   "metadata": {},
   "source": [
    "#### Database 3: NCBI (GEO)\n",
    "\n",
    "\n",
    "- Murine RNAseq data GEO, from Cembrowski et al., Elife 2016: https://www.ncbi.nlm.nih.gov/geo/query/acc.cgi?token=adsveykeprejbej&acc=GSE74985\n",
    "\n",
    "\n",
    "- Human RNAseq data GEO, from Ahyan et al., Neuron 2021: https://www.ncbi.nlm.nih.gov/geo/query/acc.cgi?acc=GSE160189\n",
    "\n",
    "#### Analysis 3: Principal Component Analysis\n"
   ]
  },
  {
   "cell_type": "code",
   "execution_count": 77,
   "id": "38e4f729",
   "metadata": {},
   "outputs": [],
   "source": [
    "#perform PCA on RNAseq data for CA2 genes to understand relationships in \n",
    "#genetic architecture between CA2 region of mice and humans"
   ]
  },
  {
   "cell_type": "markdown",
   "id": "7f25c864",
   "metadata": {},
   "source": [
    "### creating PCA model\n",
    "\n",
    "brain_model = PCA()\n",
    "\n",
    "brain_model.fit(df)\n",
    "\n",
    "transformed = brain_model.transform(df)\n",
    "\n",
    "features = range(brain_model.n_components_)\n",
    "\n",
    "normalized_variance = brain_model.explained_variance_/(brain_model.explained_variance_.sum())\n",
    "print(normalized_variance)\n",
    "\n",
    "plt.bar(features, normalized_variance)\n",
    "plt.xticks(features)\n",
    "plt.ylabel('variance')\n",
    "plt.xlabel('PCA feature')\n",
    "plt.show()"
   ]
  },
  {
   "cell_type": "markdown",
   "id": "20041980",
   "metadata": {},
   "source": [
    "### scatterplot of principal components, comparing mouse vs. human CA2 gene expression\n",
    "\n",
    "PC1 = transformed[:,0]\n",
    "PC2 = transformed[:,1]\n",
    "PC3 = transformed[:,2]\n",
    "\n",
    "plt.scatter(PC1, PC2)\n",
    "plt.show()"
   ]
  },
  {
   "cell_type": "code",
   "execution_count": null,
   "id": "1f2a4e3c",
   "metadata": {},
   "outputs": [],
   "source": []
  }
 ],
 "metadata": {
  "kernelspec": {
   "display_name": "Python 3 (ipykernel)",
   "language": "python",
   "name": "python3"
  },
  "language_info": {
   "codemirror_mode": {
    "name": "ipython",
    "version": 3
   },
   "file_extension": ".py",
   "mimetype": "text/x-python",
   "name": "python",
   "nbconvert_exporter": "python",
   "pygments_lexer": "ipython3",
   "version": "3.9.7"
  }
 },
 "nbformat": 4,
 "nbformat_minor": 5
}
